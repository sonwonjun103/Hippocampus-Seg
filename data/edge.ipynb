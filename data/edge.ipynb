{
 "cells": [
  {
   "cell_type": "code",
   "execution_count": 1,
   "metadata": {},
   "outputs": [
    {
     "name": "stderr",
     "output_type": "stream",
     "text": [
      "c:\\Users\\user\\anaconda3\\envs\\sjs\\lib\\site-packages\\tqdm\\auto.py:21: TqdmWarning: IProgress not found. Please update jupyter and ipywidgets. See https://ipywidgets.readthedocs.io/en/stable/user_install.html\n",
      "  from .autonotebook import tqdm as notebook_tqdm\n"
     ]
    }
   ],
   "source": [
    "import os\n",
    "import glob\n",
    "import torch\n",
    "import SimpleITK as sitk\n",
    "\n",
    "import numpy as np\n",
    "from scipy.ndimage import gaussian_filter, binary_erosion"
   ]
  },
  {
   "cell_type": "code",
   "execution_count": null,
   "metadata": {},
   "outputs": [],
   "source": [
    "path = f\"D:\\\\HIPPO\\\\DATA\\\\\"\n",
    "\n",
    "ct, hippo = [], []\n",
    "\n",
    "for folder in os.listdir(path):\n",
    "    folder_path = f\"{path}{folder}\\\\\"\n",
    "    for file in glob.glob(folder_path + f\"/*.nii\"):\n",
    "        filename = file.split('\\\\')[4]\n",
    "        if filename.startswith('ori'):\n",
    "            ct.append(file)\n",
    "        elif filename.startswith('lh+rh'):\n",
    "            hippo.append(file)"
   ]
  },
  {
   "cell_type": "code",
   "execution_count": null,
   "metadata": {},
   "outputs": [],
   "source": [
    "def get_volume(path):\n",
    "    volume = sitk.ReadImage(path)\n",
    "    volume = sitk.GetArrayFromImage(volume)\n",
    "\n",
    "    volume = np.transpose(volume, (1, 0, 2))\n",
    "    volume = np.rot90(volume, 2)\n",
    "\n",
    "    return volume\n",
    "\n",
    "def minmaxnormalize(volume):\n",
    "    copy_volume = volume.copy()\n",
    "\n",
    "    s = np.min(volume)\n",
    "    b = np.max(volume)\n",
    "\n",
    "    return (copy_volume - s) / (b - s)\n",
    "\n",
    "def adjust__window(volume):\n",
    "    copy_volume = volume.copy()\n",
    "\n",
    "    window_min = -20\n",
    "    window_max = 100\n",
    "\n",
    "    copy_volume[copy_volume <= window_min] = window_min\n",
    "    copy_volume[copy_volume >= window_max] = window_max\n",
    "\n",
    "    return copy_volume\n",
    "\n",
    "def get_binary_volume(volume, threshold=None):\n",
    "    copy_volume = volume.copy()\n",
    "\n",
    "    if threshold is None:\n",
    "        copy_volume[copy_volume != 0] = 1\n",
    "    else:\n",
    "        copy_volume[copy_volume <= threshold] = 0\n",
    "        copy_volume[copy_volume >= threshold] = 1\n",
    "\n",
    "    return copy_volume\n",
    "\n",
    "def get_boundary_map(volume):\n",
    "    filter_data = gaussian_filter(volume, 1)\n",
    "    threshold = 0.4\n",
    "\n",
    "    binary_mask = filter_data > threshold\n",
    "\n",
    "    eroded_mask = binary_erosion(binary_mask)\n",
    "    boundary_map = binary_mask.astype(int) - eroded_mask.astype(int)\n",
    "\n",
    "    return boundary_map\n",
    "\n",
    "def crop__volume(volume, crop_size):\n",
    "    copy_volume = volume.copy()\n",
    "\n",
    "    d, h, w = volume.shape\n",
    "    \n",
    "    start_z = d // 2\n",
    "    start_x = h // 2\n",
    "    start_y = w // 2\n",
    "\n",
    "    cropped_volume = copy_volume[start_z - crop_size[0] // 2 : start_z + crop_size[0] // 2,\n",
    "                                start_x - crop_size[1] // 2 : start_x + crop_size[1] // 2,\n",
    "                                start_y - crop_size[2] // 2 : start_y + crop_size[2] // 2,]\n",
    "    \n",
    "    return cropped_volume"
   ]
  },
  {
   "cell_type": "code",
   "execution_count": null,
   "metadata": {},
   "outputs": [],
   "source": [
    "def data_preprocessing(ctpath, hippopath):\n",
    "\n",
    "    ct = get_volume(ctpath)\n",
    "    hippo = get_volume(hippopath)\n",
    "\n",
    "    ct = crop__volume(ct, (96,128,128))\n",
    "    hippo = crop__volume(hippo, (96,128,128))\n",
    "\n",
    "    ct = adjust__window(ct)\n",
    "    ct = minmaxnormalize(ct)\n",
    "\n",
    "    hippo = get_binary_volume(hippo)\n",
    "    boundary = get_boundary_map(hippo)\n",
    "\n",
    "    boundary = crop__volume(boundary, (96,128,128))\n",
    "\n",
    "    return ct, hippo, boundary"
   ]
  }
 ],
 "metadata": {
  "kernelspec": {
   "display_name": "sjs",
   "language": "python",
   "name": "python3"
  },
  "language_info": {
   "codemirror_mode": {
    "name": "ipython",
    "version": 3
   },
   "file_extension": ".py",
   "mimetype": "text/x-python",
   "name": "python",
   "nbconvert_exporter": "python",
   "pygments_lexer": "ipython3",
   "version": "3.8.16"
  }
 },
 "nbformat": 4,
 "nbformat_minor": 2
}
